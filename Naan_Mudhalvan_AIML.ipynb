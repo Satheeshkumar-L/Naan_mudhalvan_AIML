{
  "cells": [
    {
      "cell_type": "code",
      "source": [
        "import cv2\n",
        "import numpy as np\n",
        "from sklearn.cluster import KMeans\n",
        "import matplotlib.pyplot as plt\n",
        "class DominantColorDetector:\n",
        "    def __init__(self, n_colors=3):\n",
        "        self.n_colors = n_colors\n",
        "        self.model = None\n",
        "    def preprocess_image(self, image_path):\n",
        "        try:\n",
        "            img = cv2.imread(image_path)\n",
        "            if img is None:\n",
        "                raise FileNotFoundError(f\"Image file '{image_path}' not found\")\n",
        "            img = cv2.cvtColor(img, cv2.COLOR_BGR2RGB)\n",
        "            img_pixels = img.reshape((-1, 3))\n",
        "            return img_pixels\n",
        "        except Exception as e:\n",
        "            raise ValueError(f\"Error preprocessing image: {e}\")\n",
        "    def fit(self, img_pixels):\n",
        "        try:\n",
        "            self.model = KMeans(n_clusters=self.n_colors)\n",
        "            self.model.fit(img_pixels)\n",
        "        except Exception as e:\n",
        "            raise ValueError(f\"Error fitting K-means model: {e}\")\n",
        "    def get_dominant_colors(self):\n",
        "        try:\n",
        "            if self.model is None:\n",
        "                raise ValueError(\"Model not trained. Please call 'fit' method first.\")\n",
        "            dominant_colors = self.model.cluster_centers_.astype(np.uint8)\n",
        "            return dominant_colors\n",
        "        except Exception as e:\n",
        "            raise ValueError(f\"Error getting dominant colors: {e}\")\n",
        "    def visualize_colors(self, colors):\n",
        "        try:\n",
        "            if colors is None:\n",
        "                return\n",
        "            palette = np.zeros((50, 300, 3), dtype=np.uint8)\n",
        "            start = 0\n",
        "            for color in colors:\n",
        "                end = start + 300 // len(colors)\n",
        "                palette[:, start:end, :] = color\n",
        "                start = end\n",
        "            plt.figure(figsize=(8, 4))\n",
        "            plt.imshow(palette)\n",
        "            plt.axis('off')\n",
        "            plt.title('Dominant Colors')\n",
        "            plt.show()\n",
        "        except Exception as e:\n",
        "            raise ValueError(f\"Error visualizing dominant colors: {e}\")\n",
        "image_path = '/content/image.jpg'\n",
        "n_colors = 5\n",
        "detector = DominantColorDetector(n_colors)\n",
        "img_pixels = detector.preprocess_image(image_path)\n",
        "detector.fit(img_pixels)\n",
        "dominant_colors = detector.get_dominant_colors()\n",
        "detector.visualize_colors(dominant_colors)"
      ],
      "metadata": {
        "colab": {
          "base_uri": "https://localhost:8080/",
          "height": 217
        },
        "id": "6ysrcbByKbF4",
        "outputId": "dab12f60-f040-44dd-ca64-47953298774f"
      },
      "execution_count": 7,
      "outputs": [
        {
          "output_type": "stream",
          "name": "stderr",
          "text": [
            "/usr/local/lib/python3.10/dist-packages/sklearn/cluster/_kmeans.py:870: FutureWarning: The default value of `n_init` will change from 10 to 'auto' in 1.4. Set the value of `n_init` explicitly to suppress the warning\n",
            "  warnings.warn(\n"
          ]
        },
        {
          "output_type": "display_data",
          "data": {
            "text/plain": [
              "<Figure size 800x400 with 1 Axes>"
            ],
            "image/png": "[encoded data removed]"
          },
          "metadata": {}
        }
      ]
    }
  ],
  "metadata": {
    "colab": {
      "provenance": []
    },
    "kernelspec": {
      "display_name": "Python 3",
      "name": "python3"
    },
    "language_info": {
      "name": "python"
    }
  },
  "nbformat": 4,
  "nbformat_minor": 0
}